{
 "cells": [
  {
   "cell_type": "markdown",
   "id": "7f79baf9",
   "metadata": {},
   "source": [
    "# ADS 509 Assignment 2.1: Tokenization, Normalization, Descriptive Statistics \n",
    "\n",
    "This notebook holds Assignment 2.1 for Module 2 in ADS 509, Applied Text Mining. Work through this notebook, writing code and answering questions where required. \n",
    "\n",
    "In the previous assignment you pulled lyrics data on two artists. In this assignment we explore this data set and a pull from the now-defunct Twitter API for the artists Cher and Robyn.  If, for some reason, you did not complete that previous assignment, data to use for this assignment can be found in the assignment materials section of Canvas. \n",
    "\n",
    "This assignment asks you to write a short function to calculate some descriptive statistics on a piece of text. Then you are asked to find some interesting and unique statistics on your corpora. \n"
   ]
  },
  {
   "cell_type": "markdown",
   "id": "aae8e2e1",
   "metadata": {},
   "source": [
    "## General Assignment Instructions\n",
    "\n",
    "These instructions are included in every assignment, to remind you of the coding standards for the class. Feel free to delete this cell after reading it. \n",
    "\n",
    "One sign of mature code is conforming to a style guide. We recommend the [Google Python Style Guide](https://google.github.io/styleguide/pyguide.html). If you use a different style guide, please include a cell with a link. \n",
    "\n",
    "Your code should be relatively easy-to-read, sensibly commented, and clean. Writing code is a messy process, so please be sure to edit your final submission. Remove any cells that are not needed or parts of cells that contain unnecessary code. Remove inessential `import` statements and make sure that all such statements are moved into the designated cell. \n",
    "\n",
    "Make use of non-code cells for written commentary. These cells should be grammatical and clearly written. In some of these cells you will have questions to answer. The questions will be marked by a \"Q:\" and will have a corresponding \"A:\" spot for you. *Make sure to answer every question marked with a `Q:` for full credit.* \n"
   ]
  },
  {
   "cell_type": "code",
   "execution_count": 1,
   "id": "e2d096b7",
   "metadata": {},
   "outputs": [],
   "source": [
    "import os\n",
    "import re\n",
    "import emoji\n",
    "import pandas as pd\n",
    "import numpy as np\n",
    "\n",
    "from collections import Counter, defaultdict\n",
    "from nltk.corpus import stopwords\n",
    "from string import punctuation\n",
    "\n",
    "sw = stopwords.words(\"english\")"
   ]
  },
  {
   "cell_type": "code",
   "execution_count": 26,
   "id": "6b555ab2",
   "metadata": {},
   "outputs": [],
   "source": [
    "# Add any additional import statements you need here\n",
    "import string\n",
    "from nltk.tokenize import word_tokenize\n",
    "import matplotlib.pyplot as plt\n"
   ]
  },
  {
   "cell_type": "code",
   "execution_count": 3,
   "id": "923b5a86",
   "metadata": {},
   "outputs": [],
   "source": [
    "# change `data_location` to the location of the folder on your machine.\n",
    "data_location = \"/users/rkartawi/Desktop/Ravita/MSADS/509/ads509-tm-scrape/\"\n",
    "\n",
    "# These subfolders should still work if you correctly stored the \n",
    "# data from the Module 1 assignment\n",
    "twitter_folder = os.path.join(data_location, \"twitter/\")\n",
    "lyrics_folder = os.path.join(data_location, \"lyrics/\")"
   ]
  },
  {
   "cell_type": "code",
   "execution_count": 4,
   "id": "06522af9",
   "metadata": {},
   "outputs": [],
   "source": [
    "def descriptive_stats(tokens, num_tokens = 5, verbose=True) :\n",
    "    # Flatten the list of tokens if they are nested lists\n",
    "    # if any(isinstance(i, list) for i in tokens):\n",
    "    #     tokens = list(itertools.chain.from_iterable(tokens))\n",
    "        \n",
    "    # Given a list of tokens, print number of tokens, number of unique tokens, and number of characters\n",
    "    # Fill in the correct values here. \n",
    "    num_tokens_tot = len(tokens)\n",
    "    num_unique_tokens = len(set(tokens))\n",
    "    num_characters = sum(\n",
    "        len(token) for token in tokens)    \n",
    "    \n",
    "    # Get lexical diversity (https://en.wikipedia.org/wiki/Lexical_diversity), and num_tokens most common tokens.\n",
    "    lexical_diversity = num_unique_tokens / num_tokens_tot if num_tokens_tot > 0 else 0.0\n",
    "    token_counts = Counter(tokens)\n",
    "    most_common_tokens = token_counts.most_common(num_tokens)\n",
    "\n",
    "    if verbose :        \n",
    "        print(f\"There are {num_tokens_tot} tokens in the data.\")\n",
    "        print(f\"There are {num_unique_tokens} unique tokens in the data.\")\n",
    "        print(f\"There are {num_characters} characters in the data.\")\n",
    "        print(f\"The lexical diversity is {lexical_diversity:.3f} in the data.\")\n",
    "    \n",
    "    # print the five most common tokens\n",
    "        print(f\"The {num_tokens} most common tokens are:\")\n",
    "        for token, count in most_common_tokens:\n",
    "            print(f\"{token}: {count}\")\n",
    "    # else:\n",
    "    #     # Return only the most common tokens if not verbose\n",
    "    #     return most_common_tokens \n",
    "        \n",
    "    # Return a list with the number of tokens, number of unique tokens, lexical diversity, and number of characters, most common tokens\n",
    "    return [num_tokens_tot, num_unique_tokens, lexical_diversity, num_characters, most_common_tokens]\n",
    "    "
   ]
  },
  {
   "cell_type": "code",
   "execution_count": 5,
   "id": "59dcf058",
   "metadata": {},
   "outputs": [
    {
     "name": "stdout",
     "output_type": "stream",
     "text": [
      "There are 13 tokens in the data.\n",
      "There are 9 unique tokens in the data.\n",
      "There are 55 characters in the data.\n",
      "The lexical diversity is 0.692 in the data.\n",
      "The 5 most common tokens are:\n",
      "text: 3\n",
      "here: 2\n",
      "example: 2\n",
      "is: 1\n",
      "some: 1\n"
     ]
    }
   ],
   "source": [
    "text = \"\"\"here is some example text with other example text here in this text\"\"\".split()\n",
    "# Where text will be the top word and  next text word will be here then follow by text example here List the top five text\n",
    "# Word from text example here is going to be first five word \n",
    "assert(descriptive_stats(text, verbose=True)[0] == 13)\n",
    "assert(descriptive_stats(text, verbose=False)[1] == 9)\n",
    "assert(abs(descriptive_stats(text, verbose=False)[2] - 0.69) < 0.02)\n",
    "assert(descriptive_stats(text, verbose=False)[3] == 55)"
   ]
  },
  {
   "cell_type": "markdown",
   "id": "d2e7e1a2",
   "metadata": {},
   "source": [
    "Q: Why is it beneficial to use assertion statements in your code? \n",
    "\n",
    "A: An assertion statement is a tool to test if a condition of the code is true. If the condition is True, the program continues running; if it evaluates to False, an AssertionError is raised, and the optional error message is displayed. \n",
    "\n",
    "Some of benefits of assertion statements are: \n",
    "- It helps catching bugs early by verifying conditions at specific points because it improves code reliability by ensuring assumptions hold.\n",
    "- It makes code easier to understand by explicitly showing expected behaviors.\n",
    "- It prevents invalid inputs or states from propagating through the program.\n",
    "- During development, assertions complement testing with lightweight checks and it can be disabled in production to avoid performance issues.\n",
    "  \n",
    "Overall, they enhance code robustness and make debugging easier."
   ]
  },
  {
   "cell_type": "markdown",
   "id": "9d3bf93e",
   "metadata": {},
   "source": [
    "## Data Input\n",
    "\n",
    "Now read in each of the corpora. For the lyrics data, it may be convenient to store the entire contents of the file to make it easier to inspect the titles individually, as you'll do in the last part of the assignment. In the solution, I stored the lyrics data in a dictionary with two dimensions of keys: artist and song. The value was the file contents. A data frame would work equally well. \n",
    "\n",
    "For the Twitter data, we only need the description field for this assignment. Feel free all the descriptions read it into a data structure. In the solution, I stored the descriptions as a dictionary of lists, with the key being the artist. \n",
    "\n",
    "\n"
   ]
  },
  {
   "cell_type": "code",
   "execution_count": 6,
   "id": "37d70801",
   "metadata": {},
   "outputs": [],
   "source": [
    "# Read in the lyrics data \n",
    "def read_lyrics_data(lyrics_folder):\n",
    "    lyrics_data = {}\n",
    "    # Loop through each artist's subfolder\n",
    "    for artist in os.listdir(lyrics_folder):\n",
    "        artist_folder = os.path.join(lyrics_folder, artist)\n",
    "        lyrics_data[artist] = []\n",
    "        \n",
    "        # Loop through songs in artist's folder\n",
    "        for song_file in os.listdir(artist_folder):\n",
    "            song_path = os.path.join(artist_folder, song_file)\n",
    "            with open(song_path, 'r', encoding='utf-8') as f:\n",
    "                lyrics_content = f.read().strip()\n",
    "                lyrics_data[artist].append(lyrics_content)\n",
    "                # print(f\"{artist}: {lyrics_content}\")\n",
    "    return lyrics_data\n",
    "lyrics_data = read_lyrics_data(lyrics_folder)\n"
   ]
  },
  {
   "cell_type": "code",
   "execution_count": 7,
   "id": "debcac5a",
   "metadata": {},
   "outputs": [],
   "source": [
    "# Read in the twitter data\n",
    "target_filenames = ['robynkonichiwa_followers_data.txt', 'cher_followers_data.txt']\n",
    "def read_twitter_data(twitter_folder):\n",
    "    twitter_data = {}\n",
    "    for filename in os.listdir(twitter_folder):\n",
    "        if filename in target_filenames:\n",
    "            file_path = os.path.join(twitter_folder, filename)\n",
    "            with open(file_path, 'r', encoding='utf-8', errors='replace') as f:\n",
    "                twitter_data[filename] = f.read().strip()\n",
    "    return twitter_data\n",
    "twitter_data = read_twitter_data(twitter_folder)"
   ]
  },
  {
   "cell_type": "code",
   "execution_count": 8,
   "id": "25bb62b7-de24-42bc-ab6e-2c48f5c45310",
   "metadata": {},
   "outputs": [
    {
     "name": "stdout",
     "output_type": "stream",
     "text": [
      "Filename: cher_followers_data.txt\n",
      "Description (first 1000 characters):\n",
      "screen_name\tname\tid\tlocation\tfollowers_count\tfriends_count\tdescription\n",
      "hsmcnp\tCountry Girl\t35152213\t\t1302\t1014\t\n",
      "horrormomy\tJeny\t742153090850164742\tEarth\t81\t514\t𝙿𝚛𝚘𝚞𝚍 𝚜𝚞𝚙𝚙𝚘𝚛𝚝𝚎𝚛 𝚘𝚏 𝚖𝚎𝚜𝚜𝚢 𝚋𝚞𝚗𝚜 & 𝚕𝚎𝚐𝚐𝚒𝚗𝚐𝚜\n",
      "anju79990584\tanju\t1496463006451974150\t\t13\t140\t163㎝／愛かっぷ💜26歳🍒 工〇好きな女の子💓 フォローしてくれたらDMします🧡\n",
      "gallionjenna\tJ\t3366479914\t\t752\t556\tcsu\n",
      "bcscomm\tbcscomm\t83915043\tWashington, DC\t888\t2891\tWriter @Washinformer @SpelmanCollege alumna #DCnative Award-winning journalist & PR pro @IABC Fellow & Past Chair IG: bcscomm Email: wibsiler@gmail.com\n",
      "liaochaoqun2\t廖超群\t1502787622376075264\tTaiwan\t2\t390\t\n",
      "Rodhandyjj\tArt Vandalay 🇺🇦🇺🇦🇺🇦\t1386454132022824962\tMaine, USA\t104\t159\tI’m unemployed and live with my parents. MOOPS!\n",
      "JackBianchi7\tJackson\t1200870825953550336\t\t0\t7\tzoowee mama\n",
      "MelbaBu81266475\tMelba Burns\t1492913469166743554\t\t17\t136\t\n",
      "macryant900\tSpyderRyder\t3425156986\t🇨🇦\t628\t794\tLet the healing begin. Let us learn from the past. 🇨🇦 follower of #TheResistance\n",
      "notdevilanse\tAmanda 😇\t916870029123211264\t\t13\t110\tdo what tho\n",
      "\n",
      "==================================================\n",
      "\n",
      "Filename: robynkonichiwa_followers_data.txt\n",
      "Description (first 1000 characters):\n",
      "screen_name\tname\tid\tlocation\tfollowers_count\tfriends_count\tdescription\n",
      "AngelxoArts\tAngelxo\t1424055675030806529\tZacatlan, Puebla, Mexico\t29\t535\t\"I love chill\" •Facebook / Instagram / SoundCloud: AngelxoArts• https://t.co/447okKLKzA…\n",
      "songsfornikola\tjohnny\t1502717352575651840\t\t6\t318\tbooks, movies, music, nature & TV shows. OG Sweetee since '12 thanks to YouTube recommending 'This Feeling' on my homepage ♥️\n",
      "thibaud_lola\tThibaud Lola\t1502407708246478852\t\t3\t69\t(Am)auteur en herbe 🌱 - juriste en paille 🤡 - Ami des fleurs 🌸🌈 (sans la main verte) - music & books - #morecomingsoon... (si on en voit le bout)\n",
      "KyleSew2112\tKyle S 🌹🇬🇧🇺🇦\t3423966821\tSouth East London\t1258\t3444\tThis Twitter profile is full of sarcasm and rants with the occasional moan, dont like me dont follow me! KLF Stan Account Aspiring Youth Council rep\n",
      "MusiFlo\tMusiFlo\t3324069364\tCanada\t470\t1706\tFlora Youssef - Blogger & Founder Posting review articles about the latest music 🎵 https://t.co/dx4hoIom7T https://t.co/KsplT6mZzs\n",
      "Deyshaw3\n",
      "\n",
      "==================================================\n",
      "\n"
     ]
    }
   ],
   "source": [
    "for filename, description in twitter_data.items():\n",
    "    print(f\"Filename: {filename}\")\n",
    "    print(f\"Description (first 1000 characters):\\n{description[:1000]}\")\n",
    "    print(\"\\n\" + \"=\"*50 + \"\\n\")"
   ]
  },
  {
   "cell_type": "markdown",
   "id": "6a5f3b12",
   "metadata": {},
   "source": [
    "## Data Cleaning\n",
    "\n",
    "Now clean and tokenize your data. Remove punctuation chacters (available in the `punctuation` object in the `string` library), split on whitespace, fold to lowercase, and remove stopwords. Store your cleaned data, which must be accessible as an interable for `descriptive_stats`, in new objects or in new columns in your data frame. \n",
    "\n"
   ]
  },
  {
   "cell_type": "code",
   "execution_count": 9,
   "id": "71c73d86",
   "metadata": {},
   "outputs": [],
   "source": [
    "punctuation = set(punctuation) # speeds up comparison\n",
    "def clean_text(text):\n",
    "    # Remove punctuation include hashtag\n",
    "    # text = ''.join(char for char in text if char not in string.punctuation)\n",
    "    text = ''.join(char for char in text if char not in string.punctuation.replace('#', '')) # Thanks to ChatGPT  \n",
    "    # Convert to lowercase\n",
    "    text = text.lower()\n",
    "    # Remove \"lyrics'\n",
    "    text = re.sub(r'\\blyrics\\b', '', text, flags=re.IGNORECASE)\n",
    "    # Remove numbers\n",
    "    text = re.sub(r'\\d+', '', text)\n",
    "    # Tokenize\n",
    "    tokens = word_tokenize(text)\n",
    "    # Remove stopwords\n",
    "    stop_words = set(stopwords.words('english'))\n",
    "    cleaned_tokens = [word for word in tokens if word not in stop_words]\n",
    "    return cleaned_tokens"
   ]
  },
  {
   "cell_type": "code",
   "execution_count": 10,
   "id": "b327033a",
   "metadata": {},
   "outputs": [],
   "source": [
    "#create your clean twitter data here \n",
    "# remove #\n",
    "def clean_twitter_data(twitter_data):\n",
    "    cleaned_twitter_data = {}\n",
    "    for filename, description in twitter_data.items():\n",
    "        cleaned_tokens = re.sub(r'#(\\w+)', r'\\1', description)\n",
    "        cleaned_tokens = clean_text(cleaned_tokens)\n",
    "        cleaned_twitter_data[filename] = cleaned_tokens\n",
    "    return cleaned_twitter_data\n",
    "cleaned_twitter_data = clean_twitter_data(twitter_data)"
   ]
  },
  {
   "cell_type": "code",
   "execution_count": 11,
   "id": "8907f2dd-60e9-421a-a160-efd66916b74e",
   "metadata": {},
   "outputs": [
    {
     "name": "stdout",
     "output_type": "stream",
     "text": [
      "Filename: cher_followers_data.txt\n",
      "Cleaned Description (first 1000 characters):\n",
      "['screenname', 'name', 'id', 'location', 'followerscount', 'friendscount', 'description', 'hsmcnp', 'country', 'girl', 'horrormomy', 'jeny', 'earth', '𝙿𝚛𝚘𝚞𝚍', '𝚜𝚞𝚙𝚙𝚘𝚛𝚝𝚎𝚛', '𝚘𝚏', '𝚖𝚎𝚜𝚜𝚢', '𝚋𝚞𝚗𝚜', '𝚕𝚎𝚐𝚐𝚒𝚗𝚐𝚜', 'anju', 'anju', '㎝／愛かっぷ💜歳🍒', '工〇好きな女の子💓', 'フォローしてくれたらdmします🧡', 'gallionjenna', 'j', 'csu', 'bcscomm', 'bcscomm', 'washington', 'dc', 'writer', 'washinformer', 'spelmancollege', 'alumna', 'dcnative', 'awardwinning', 'journalist', 'pr', 'pro', 'iabc', 'fellow', 'past', 'chair', 'ig', 'bcscomm', 'email', 'wibsilergmailcom', 'liaochaoqun', '廖超群', 'taiwan', 'rodhandyjj', 'art', 'vandalay', '🇺🇦🇺🇦🇺🇦', 'maine', 'usa', '’', 'unemployed', 'live', 'parents', 'moops', 'jackbianchi', 'jackson', 'zoowee', 'mama', 'melbabu', 'melba', 'burns', 'macryant', 'spyderryder', '🇨🇦', 'let', 'healing', 'begin', 'let', 'us', 'learn', 'past', '🇨🇦', 'follower', 'theresistance', 'notdevilanse', 'amanda', '😇', 'thou', 'wilt', '🖤✨', 'dickgiridiaries', 'dickgirldiaries', 'bloomingrx', 'roxana', '🇺🇦🇨🇦', 'delisle', 'saskatchewan', 'curious', 'canadian', 'contemplator', 'sheher', 'sexagenarian', 'nurb', 'nurb', 'erparker', 'edieparker', 'mggotsbrins', 'emma', 'california', 'usa', 'eyottracy', 'tracy', 'nicole', 'taliaasaurus', 'σκουπίδια', 'sheherhers', 'feminist', 'lgbtq', 'blm', 'mental', 'health', 'advocate', 'something', 'nice', 'somebody', 'today', 'pastone', 'piper', 'united', 'states', 'luzguardado', '♡', 'ig', 'browsbyluz', 'gldsgirl', 'phyllis', 'huell', 'giselle', 'giselle', 'blm', 'love', 'viva', 'méxico', 'oktooshort', 'nj', 'limbo', 'ubuntu', 'mudita', '🧩', 'infp🌻', 'jessemfjones', 'jesse', 'jones', 'fort', 'mcmurray', 'alberta', 'im', 'guy', 'married', 'kids', 'constantly', 'wonder', 'happened', 'life', 'expect', 'understand', 'oh', 'yeah', 'follow', 'okay', 'lauradoty', 'laura', 'doty', 'dance', 'clean', 'saunas', 'nice', 'viancamdo', 'vee💕', 'traveling', 'romanos', '✝️', 'truthprevails', 'sb', 'california', 'usa', 'supporting', 'california', 'usa', 'let', 'truth', 'prevail', 'jasonp', 'jason', 'pinkney', 'meadow', 'lands', 'pa', 'like', 'cars', 'guitars', 'sports', 'gracemwuah', 'gracie', 'eugene', 'misanthrope', 'asf', 'violetmasseuse', 'v', 'l', 'e', '✧', 'ottawa', '༺༻', '✧', 'gentle', 'heart', 'wild', 'soul', 'ꕥ', 'erotic', 'masseuse', 'racytracey', 'harper', 'sacramento', 'ca', 'triple', 'vaccinated', 'cyclist', 'cancer', 'survivor', 'caldor', 'fire', 'survivor', 'climate', 'change', 'real', 'petropolisfui', 'petros', 'portland', 'guy', '🙃', 'taylornelson', 'taylor', 'taylor', '’', 'version✨', 'phoenix', 'az', 'shehers', '•', 'queer', 'progressive', 'organizer', '•', 'hire', 'comms', 'field', 'pls', '•', 'past', 'arenasummit', 'academy', 'cm', 'track', 'iaforwarren', 'coecollege', 'swingleft', 'ppact', 'hrc', 'aprilmh', 'april', 'hampton', 'kyledhester', 'kyle', 'hester', 'actor', 'filmmaker', 'kyle', 'hollywood', 'actor', 'filmmaker', 'quarter', 'racism', 'films', 'preachersix', 'themagicianfilm', 'zombiewashotgun', 'thechairhorror', 'pagan', 'happily', 'married', 'tracy', 'ray', 'actuallyreal', 'real', 'person', 'hi', 'im', 'actual', 'real', 'person', 'one', 'maevesicles', 'maeve', 'andyrlovesballs', 'andy', 'rose', 'republicans', 'clearly', 'full', 'crap', 'texas', 'usa', 'andy', 'rose', 'subscribing', 'porn', 'link', 'dont', 'dm', 'hehim', 'republicanism', 'fascism', 'save', 'democracy', 'vote', 'democratic', 'progressive', 'antibigot', 'adamtheestan', 'crackheadbarbie', 'hehim', '🏳️\\u200d🌈', 'avalance', 'worshipper', 'legends', 'whore', 'tua☂️', 'runaways', 'legacies', 'wanda', 'stan🔴', 'bafwinn', 'f', '🔥', 'bullshit', 'af🔥', 'fierrofamilylaw', 'gerard', 'fierro', 'los', 'angeles', 'penn', 'state', 'alumnus', 'usc', 'law', 'center', 'jd', 'state', 'bar', 'california', 'mikegarycole', 'mike', 'gary', 'cole', 'nelson', 'bc', 'crossfit', 'guru', 'civil', 'war', 'historian', 'countries', 'unethically', 'monogamous', 'vaxxed', 'every', 'brand', 'pronouns', 'offend', 'live', 'laugh', 'loiter', 'starblue', 'star', 'dlmb', 'denise', 'bélanger', 'ottawa', 'draw', 'line', 'stinky', 'tofu', 'lives', 'nice', 'apartment', 'meth', 'lab', 'opinions', 'barbarashoaf', 'barbara', 'shoaf', 'cierrageorge', 'cierra', 'george', 'environmentalist', 'fashion', 'beauty', 'enthusiast', 'goofball', 'proud', 'nerd', 'foodie', 'cat', 'mom', 'apennyvalentine', 'anne', 'valentine', 'working', 'mother', 'runner', 'otfer', 'sometimes', 'singer', 'never', 'misses', 'meal', 'food', 'recommendations', 'always', 'accepted', 'teresa', 'terenice', 'miren', 'mi', 'perrito', 'querido', 'mcarabal', 'living', 'planet', 'earth', 'love', 'choice', '🌎', 'danielleexx', 'danielle', '♡', 'sheher', 'kyromi', 'kyromi', 'eat', 'ass', 'tayissbae', 'b', 'e', 'always', 'moving', '✨🧚🏼\\u200d♂️', '🌷🦄🎀🦕🌺💝🍒🌸🧸🍑', 'bartalucian', 'lucian', 'barta', 'mprossi', 'maryann', 'rossi', 'danceriam', 'beth', 'oak', 'park', 'il', 'laurdev', 'astrolaur✨', 'san', 'francisco', 'ca', '“', 'could', 'either', 'watch', 'happen', 'part', '”', 'future', 'engineer🚀', 'erau', '‘', 'opinions', 'adlr', 'tired', 'ca', '‘', 'sps', 'steve', 'shink', 'portland', 'maine', 'robertn', 'robert', 'niro', 'robert', 'niro', 'nc', 'chi', 'chicago', 'il', 'kds', 'rd', 'burner', 'account', 'graceedna', 'grace', 'united', 'states', 'libslil', 'lillibs', 'thirdcoastryan', 'ryan', 'tracydilligard', 'tracyfeelnbeechy', 'south', 'carolina', 'usa', 'op', 'op', 'united', 'states', 'hehimafrican', 'americanstan', 'many', 'artists🏳️\\u200d🌈', 'like', 'extremely', 'adernworld', 'adern', '🇺🇦', 'hethey', 'level', 'wood', 'elf', 'ranger', '🌹', 'filmmaker', 'dmpr', 'pd', 'san', 'francisco', 'ca', 'helloitsmillie', 'millie', 'london', 'united', 'kingdom', '🌸', 'london', '🌸', 'student', 'theatreartsmdx', '🌸', 'shethey', '🌸', 'blacklivesmatter', 'minixia', 'novavida', 'danalme', 'menard', 'boxing', 'fanatic', 'sci', 'fi', 'horror', 'guy', 'shitface', 'cristaguzior', 'crista', 'guzior', 'illinois', 'usa', 'baskacherlovely', 'squeak', 'bob', 'nuttyirishman', 'mike', 'moran', 'new', 'york', 'usa', 'im', 'disciple', 'jesus', 'christ', 'important', 'ratgirlratboi', 'ratgirlratboi', 'manchester', 'england', '🔊🎶🌇snapchat', 'niamhyeahjax', 'instagram', 'ratgirlratboi', 'kathrillhouse', 'katherine', 'allan', 'minute', 'version', 'melbourne', 'australia', 'fyre', 'festival', 'scholar', 'sheher', 'subscribe', 'weekly', 'comedy', 'newsletter', 'pay', 'rent', 'httpstcoyccaori', 'aindividual', '🏳️\\u200d🌈elecktrina🧦🇬🇧🇺🇲🇨🇦🇦🇺🇳🇿', 'united', 'states', '🌹sheher🌹', '🌹social', 'democrat🌹', '🌹progress', 'security🌹', '🌹mostly', 'progressive🌹', 'emmawhitemusic', 'emma', 'white', 'nashville', 'tn', '“', 'thirties', '”', '“', 'mothers', 'daughters', '”', '✨', 'songwriter', 'coowner', 'founder', 'wlabelnash', 'cowboy', 'wooitsmolly', '💜steph💜', 'dublin', 'ireland', 'achildofneptune', '🧚\\u200d♀️🧚\\u200d♀️', 'youngmidoriya', 'deku', 'ur', 'mom', 'literally', 'nothing', 'renaelegge', 'renaelegge', 'australia', 'surfertheory', 'nick', '🐄', 'shehethey', '🤍', 'juicy', 'couture', 'princess', 'scorpio', 'viviennehaute', 'vivienne', 'london', 'fashion', 'nft', 'hftwt', 'couture', 'addict', 'aries', 'km', 'charles', 'mcmillan', 'spring', 'tx', 'valejohnson', 'valeria', 'maria', 'dont', 'worry', 'happy', 'babiforeignhoe', 'tha', 'real', 'babi', 'foreign', '🥭🐾', 'south', 'broadway', 'baltimore', 'md', 'lil', 'arndrae', '🇦🇷', 'srhtonin', 'sarah', 'denver', 'co', 'born', 'hurry', 'always', 'late', 'hghwters', 'bagstiv', 'maxinerkatz', 'maxine', 'r', 'katz', 'urbana', 'illinois', 'student', 'religionuiuc', 'theory', 'ritualization', 'hinduism', 'catholicism', 'interfaith', 'curricula', 'initiatives', 'student', 'director', 'midwest', 'region', 'aarweb', 'donnapendergr', 'donna', 'pendergrass', 'born', 'christian', 'democrat', 'mom', 'grandma', 'shydazee', 'glow', 'sunrise💎🏁', 'stl', 'la', 'creator', 'black', 'girls', 'love', 'vinyl', 'glow', 'sunrise', 'hamptonu', 'alumna', 'ig', 'shydaze', 'pennybollas', 'penny', 'bollas', 'jsydntal', 'jay', 'ell', 'seattle', 'wa', 'keepitreal', 'commonsense', 'feelings', 'mediaistherealvirusdont', 'care', 'trolls', 'samoa', 'muamua', 'lē', 'atua', 'vekoppe', 'veline', 'koppe', 'porto', 'alegrecanoasrs', 'krish', 'krishna', 'priya', 'l', 'diwa', 'angelinaxgtz', 'angelina', 'gutierrez', '🖤✨', '🇩🇪🇲🇽', 'instagram', 'aangelinagutierrez', 'sofiavilla', 'bg', 'mill', 'creek', 'wa', 'brianbrian', 'bt', 'carleton', 'place', 'ontario', 'namewitha', 'e', 'j', 'maintoba', 'canada', 'working', 'guy', 'car', 'guy', 'working', 'better', 'mebut', 'im', 'still', 'ass', 'hole', 'epicaworld', 'epicaworld', 'alexjvyne', 'alex', 'los', 'angeles', 'ca', 'shehers', '🇵🇭', 'buziexcellency', 'bex', 'academy', 'kyiv', 'unlock', 'trading', 'potential', 'cover', 'every', 'aspect', 'markets', 'options', 'futures', 'trading', 'notfinancialadvice', 'boixgenius', 'm🥀', 'nv', '🦢👑', 'mmeraffaele', 'mme', 'raffaele', 'nyc', 'rock', 'roll', 'juggernaut', 'writer', 'muse', 'animal', 'lover', 'wendigo', 'boss', 'cycle', 'slut', 'hell', 'nerd', 'gamer', 'fagwoman', 'killer', 'queen', 'brslv', 'b', 'tahlmorra', 'tahlmorra', 'north', 'carolina', 'usa', 'male', 'ace', 'red', 'wolf', 'hiking', 'mountains', 'nc', 'banner', 'kibarinwolf', 'fursuit', 'ccfursuits', 'bourbon', 'beer', 'deeply', 'nerdy', 'sometimes', 'nsfw', 'nathanharkins', 'nathan', 'harkins', 'ajjt', 'yes', 'egfco', 'gussie', 'oshea', 'mom', 'grandmother', 'teacher', 'kieraosiecki', 'keezy', 'welcome', 'back', '😚', 'judithklinger', 'judithklinger', 'montone', 'italy', 'nyc', 'utah', 'family', 'friends', 'food', 'resistance', 'activist', 'unrelenting', 'passion', 'eliminate', 'electoral', 'college', 'vote', 'count', 'devallion', 'de', 'vallion', 'piper', 'lindsayafsari', 'lindsay', 'afsari', 'andreafrancesco', 'andrea', 'f', 'berni', 'milano', 'italy', 'direttore', 'di', 'httpstcouflumya', 'fotografo', 'spenseron', 'ron', 'spense', 'toronto', 'ive', 'played', 'rules', 'worked', 'hard', 'stood', 'bullies', 'helped', 'need', 'served', 'country😎😎😎', 'kahfka', 'sherrymark', 'sherry', 'mark', 'sherry', 'mark', 'nice', 'meeting', 'lady', 'single', 'lady', 'indeed💕💕', 'mertroid', 'abortion', 'pills', '💊', 'los', 'angeles', 'ca', 'mississippi', 'born', 'sheher', '🏳️\\u200d🌈', '🍳', 'cassvimo', 'chaotic', 'cass', 'whitexican', 'cat', 'lady', 'also', 'kakashi', '❤', 'mi', 'esposo', 'habla', 'en', 'reggaetón', 'wendyhughes', 'wendy', 'hughes', 'teri', 'teri']\n",
      "\n",
      "==================================================\n",
      "\n",
      "Filename: robynkonichiwa_followers_data.txt\n",
      "Cleaned Description (first 1000 characters):\n",
      "['screenname', 'name', 'id', 'location', 'followerscount', 'friendscount', 'description', 'angelxoarts', 'angelxo', 'zacatlan', 'puebla', 'mexico', 'love', 'chill', '•facebook', 'instagram', 'soundcloud', 'angelxoarts•', 'httpstcookklkza…', 'songsfornikola', 'johnny', 'books', 'movies', 'music', 'nature', 'tv', 'shows', 'og', 'sweetee', 'since', 'thanks', 'youtube', 'recommending', 'feeling', 'homepage', '♥️', 'thibaudlola', 'thibaud', 'lola', 'amauteur', 'en', 'herbe', '🌱', 'juriste', 'en', 'paille', '🤡', 'ami', 'des', 'fleurs', '🌸🌈', 'sans', 'la', 'main', 'verte', 'music', 'books', 'morecomingsoon', 'si', 'en', 'voit', 'le', 'bout', 'kylesew', 'kyle', '🌹🇬🇧🇺🇦', 'south', 'east', 'london', 'twitter', 'profile', 'full', 'sarcasm', 'rants', 'occasional', 'moan', 'dont', 'like', 'dont', 'follow', 'klf', 'stan', 'account', 'aspiring', 'youth', 'council', 'rep', 'musiflo', 'musiflo', 'canada', 'flora', 'youssef', 'blogger', 'founder', 'posting', 'review', 'articles', 'latest', 'music', '🎵', 'httpstcodxhoiomt', 'httpstcokspltmzzs', 'deyshaw', 'deyshawn', 'thefelourfog', 'velour', 'fog', 'uk', 'annemariebarr', 'anne', 'marie', 'barr', 'united', 'kingdom', 'imteddymykaels', 'trahy', 'theythem', 'recording', 'artist', 'songwriter', '🌈', 'fashion', 'stylist', 'floral', 'house', 'boutique', 'ceo', 'arcade', 'mode', 'records', 'actor', 'cheesusontoast', 'son', 'also', 'named', 'bort', '🇳🇿', '🦖🐧🥑', 'new', 'zealand', 'thequeerstriver', 'mauricio', 'garcia', 'chicago', 'il', '🇲🇽🏳️\\u200d🌈', 'bexthreads', 'bexthreads', 'brisbane', 'queensland', '🚀🐕check', '👀t', 'snoopdogememe', '🐕🚀', '🔥🔥🐢', 'n', '🐢🔥🔥', 'music', 'enthusiast', 'musician', 'writer', 'artist', 'humanitarian', 'animal', 'lover', 'nft', 'lover', 'stegzo', 'stephen', 'docherty', 'references', 'available', 'upon', 'request', 'mfildespeace', 'michaelfildespeace', 'chioucristal', 'cristal', 'chiou', 'taipei', 'city', 'taiwan', 'dj', 'cristal', 'chiou', 'kristinaentico', 'kristina', 'enticott', 'cardiff', 'wales', 'dizzyborden', 'jodi', 'gemini', 'omaha', 'half', 'mad', 'jade', 'shabby', 'cabbie', 'old', 'tired', 'least', 'immune', 'teargas', 'trek', 'good', 'trek', 'doom', 'patrol', 'life', 'tangerinecream', 'tangerine', 'cream', 'bro', 'nickrevell', 'nick', 'revell', 'indianapolis', 'indiana', 'im', 'one', 'side', 'pillow', 'got', 'also', 'assistant', 'taco', 'executive', 'cam', 'cameron', 'barné', 'new', 'york', 'ny', 'hehim', 'things', 'opening', 'back', 'mcarracedo', 'manuel', 'carracedo', 'lantadilla', 'cuenta', 'alternativa', '😊✌️🌈', 'viktorstenhjem', 'viktor', 'stenhjem', '🇺🇦☮️', 'munich', 'bavaria', 'wrong', 'note', 'insignificant', 'play', 'without', 'passion', 'unforgivable', 'lvb', '🇪🇺', 'multiversejc', 'jc', '💯💜🌹💎', 'multiverse', 'water', 'worldofwarcraft', 'hiphop', 'underground', 'mainstream', 'money', 'women', 'weed', 'love', 'jewelry', 'aint', 'got', 'ill', 'change', 'make', '🎧🙏', 'alonfruchter', 'alon', 'fruchter', 'עורך', 'התרבות', 'בדיגיטל', 'של', 'kannnews', 'jemimacolahan', 'jemima', 'colahan', 'danielferrs', 'daniel', 'praia', 'grande', 'são', 'paulo', 'pokemon', 'go', 'trailer', 'levei', 'ethan', 'milions', 'xp', 'shiny', 'collector', 'emdash', 'emily', 'suber', '🇺🇦', 'la', 'art', 'director', 'design', 'graphic', 'motion', 'art', 'thvanthong', 'vanthong', 'th', 'sannelisabeth', 'sandra', 'astickerman', 'anthony', 'stickerman', 'vancouver', 'british', 'columbia', 'host', 'stickin', '’', 'anthony', 'youtube', 'new', 'video', 'last', 'saturday', 'every', 'month', 'join', 'stickerbooking', 'adventures', '▶️httpstcoiwdorgyw', 'jpg', 'omgxditskathy', 'katherine', 'nutley', 'name', 'kat', 'love', 'lamp', 'brookslb', 'larna', 'brooks', 'muleyong', 'mule', 'yong', 'hi', '’', 'metaverse', 'money', 'mule', 'traveling', 'around', 'world', 'collect', 'game', 'points', 'blog', 'cyber', 'security', 'art', 'adriancanadrian', 'adrian', 'bell', 'voiceovers🎙🎧🔊', 'world', 'httpstcokckzbkxvq', 'voiceover', 'artist', 'narrator', 'commercial', 'voice', 'actor', 'promo', 'voice', 'broadcaster', 'producer', 'culinarian', 'editor', 'published', 'writer', 'douglas', 'douglas', 'hill', 'currently', 'saudi', 'arabia', 'working', 'man', 'jimmytonyftw', 'jimmy', 'tony', 'cuthbertsykes', 'twila', '♍️', 'tw', '❤️', 'sheher', 'postingcast', 'postingcast', 'postingcast', 'cast', 'posts', 'sfoxxxx', 'rafa', 'lisbon', 'portugal', 'voce', 'dá', 'gastrite', 'apollostar', 'ashley', 'foust', 'inspector', 'day', 'mother', 'night', 'marscho', 'marsch', 'bez', 'melknöateu', '🇫🇮🇸🇪🇪🇪🇱🇹🇱🇻🇬🇪🇲🇩🇵🇱🇺🇦', '🖕🇷🇺🖕', 'jahrgang', 'thats', 'one', 'small', 'step', 'man', 'one', 'giant', 'leap', 'mankind', 'irltransport', 'uk', 'irl', 'hrs', 'fikaduzarito', 'zarito', 'fikadu', 'hannahannahej', 'hannah', 'zidekit', 'neo', 'matrix', 'joaquinxcx', 'joaquin', '•', 'crash', 'march', '🧣', 'hethey', 'minor', '💛', 'stream', 'sawayama', 'pls', '•', 'cupcakke', 'follow', '💛', 'kiefert', 'kiefert', 'miloshuang', 'milo', 'huang', 'im', 'either', 'macintosh', 'apple', 'granny', 'smith', 'choice', 'christophcote', 'christoph', 'cote', 'hello', 'nice', 'meet', 'u', 'tylaaaar', 'tylar', 'calcinai', 'sweethotpink', 'sweet', 'hot', 'pink', 'salty', 'light', 'pink', 'pink', 'life', '💘💌💝💖💗💓💕💟💔🐷🐭🐰🌸🌷🌺🍡🍥🍨🧁🌁🌉🎀🎟♀️🩱👚👛👝🥿👡🩰🧼', 'shadesofneo', 'neo', 'shut', 'fuck', 'hehim', 'kostanda', 'kostanda', 'bjornsthlm', 'björn', 'hessle', 'stockholm', 'sweden', 'kitsikakomim', 'kendra', 'bi—sheher', 'mohammadthecat', 'vangoghthecat', 'kendrathehumanbeing', 'buzzcutsza', 'caroline', 'passacheque', 'chromatica', 'swift', 'positions', 'npagiana', 'n', 'p', 'giana', '🦊', 'desidero', 'condividere', 'miei', 'pensieri', 'con', 'poche', 'anime', 'poche', 'buone', 'ajsaajsa', 'ajsa', 'ajsa', 'jimbobandmurphy', 'james', 'redfern', 'boston', 'england', 'giorgiahanna', 'giorgia', 'hanna', 'padovan', 'drsrutherford', 'sarah', 'rutherford', '💙', 'london', 'england', 'screenwriterplaywright', 'tallagent', 'work', 'development', 'bbc', 'worldprods', 'redproductionco', 'plays', 'trafstudios', 'parktheatre', 'published', 'methuendrama', 'torstenkathke', 'torsten', 'kathke', 'cologne', 'mainz', 'germany', 'historian', 'thth', 'century', 'us', 'germany', 'jgu', 'mainz', 'writing', 'ss', 'cultural', 'criticism', 'pop', 'science', 'futurology', 'book', 'wires', 'bind', 'httpstcoszsewqcpbt', 'kewirmustaph', 'wirnkar', 'kewir', 'mustapha', 'simply', 'great', 'person', 'nata', '＼ふみかみかふ／', 'rjts', 'camilleaddisalm', 'camille', 'addis', 'alem', 'london', 'music', 'journalist', 'making', '•good', 'words', 'terrible', 'numbers', 'ethiopianfrench', 'also', 'singer', 'wouldnt', 'like', 'opinions', 'hrry', 'hrry', 'sports', 'betting', 'writer', 'blaydon', 'lover', 'nufc⚫️⚪️', 'sport🏇⚽️🏈🏉', 'music🎶', 'board', 'games🎲♟️', 'poker♠️', 'beer🍻', 'books📚', 'scifi👽', 'interact', 'like', 'minded', 'souls', 'mminkoff', 'ancient', 'mesopotamian', 'god', 'fertile', 'crescent', 'jenannuo', 'jean', '☆', 'itsharrybyharry', 'harrybyharry', 'kingdom', 'ends', 'crash', 'burn', 'girl', 'joeynosebleed', 'joey', 'texas', 'bedwetterswftx', 'beingawomenis', 'woman', 'earth', 'thoughts', 'provoke', 'conversation', 'truth', 'women', 'least', 'one', 'provoke', 'change', 'beingawomanis', 'analogsmilepod', 'analog', 'smile', '🇺🇦', 'north', 'port', 'fl', 'podcast', 'chatting', 'musicians', 'music', 'industry', 'pros', 'authors', 'podcasters', 'others', 'hosted', 'sherryt', 'booking', 'info', 'analogsmileaolcom', 'csgfunk', 'carleton', 'motownphilly', 'writer', 'historian', 'funkateer', 'grant', 'writer', 'librarycompany', 'founder', 'executive', 'director', 'emeritus', 'detroitsound', 'hehimhis', 'kmaccidental', 'kv', 'k', 'mtthwwht', 'matt', 'white', 'greyhound', 'owner', 'volunteer', 'spontaneous', 'dancer', 'frequent', 'poster', 'picture', 'taker', 'hehim', 'patiencemira', 'patience', 'mira', 'godcan', 'luisrj', 'luis', 'carlos', 'santana', 'toronto', 'ontario', 'carpe', 'diem', '🇧🇷', '🇨🇦', 'brazilian', 'toronto', '📍rio', 'de', 'janeiro', '📍toronto', 'therealdm', 'dm', 'ⓜ️', 'rome', 'bona', 'vada', 'lovely', 'eek', 'antifa', 'asroma', 'straightouttamonteverde', 'mozarmy', 'autismawareness', 'danielbalan', 'dn', 'mans', 'land', 'não', 'venha', 'com', 'positividade', 'tóxica', 'auroraribs', 'aurora', 'weve', 'yet', 'lost', 'graces', 'kellywo', 'kelly', 'woody', 'joordybug', 'jordan', 'gaskeep', 'gatelight', 'girlboink', 'reedanubis', 'reedanubis', 'boombox', 'dj', '🎥', 'channel', 'youtube', 'reedanubis', '🎥', 'join', '❤️', 'cacklinhens', 'henny', 'california', 'usa', 'make', 'feel', 'hochfallen', 'hochfallen🕯', 'magdeburg', 'germany', 'pop', 'music', 'politics', 'mitcelhl', 'mitchell', 'chicago', 'il', 'chicago', 'hehim', 'gluten', 'enemy', 'piggelinett', 'helena', 'hellnemo', '💕', 'douglascoulter', 'douglas', 'coulter', 'hehim', 'los', 'angeles', 'ca', 'data', 'science', 'policy', 'scifi', 'tech', 'enthusiast', 'giant', 'homosexual🏳️\\u200d🌈', 'eddiehebert', 'eddie', 'hebert', 'jr', 'arlington', 'boston', 'overtone', 'window', 'jazz', 'uncertainfm', 'tues', 'pm', 'day', 'gig', 'kind', 'programming', 'like', 'talk', 'music', 'mrsgeary', 'emily', 'baier', 'geary', 'bethel', 'ct', 'bostonian', 'proud', 'xennial', 'lifelong', 'sox', 'fan', 'pharma', 'pr', 'girl', 'prolific', 'sender', 'xmas', 'cards', 'mom', 'army', 'wife', 'golf', 'obsessed', 'tweets', 'opinions', 'r', 'lynnfryson', 'lynn', 'fryson', 'fitzsimonsjeff', 'jeffrey', 'fitzsimons', 'dublin', 'music', 'lover', 'japansylvianduran', 'gusgus', 'shamrock', 'rovers', 'liverpool', 'supporter', 'love', 'son', '’', 'grandsonpartnerfamily', 'mean', 'everything', 'music', 'life💜', 'renee', 'renee', 'latour', 'bardbennison', 'bard', 'bennison', 'hi', 'spit', 'mouth', 'hethey', 'x', 'sophieaslut', 'sophie', 'anderson', 'london', 'england', '🌏the', 'fxxking', 'explorers🌏directorproducersingersongwriter', 'actresscomedianpositivity', 'influencerowner', 'fuck', 'bookingsmrandmrssinshotmailcom', 'lindsaypaiges', 'lindsay', 'sheher', 'sunnydale', 'ca', 'im', 'fan', 'many', 'things', 'sizasibaya', 'siza', 'sibaya', 'newcastle', 'south', 'africa', 'adventurous', 'life', 'strategist', 'art', 'collector', 'anirah', 'trisha', 'ericks', 'saint', 'louismissouri', 'lover', 'everything', 'aaliyahempress', 'edeniatsgoddessbdbassassin', 'hivedaughter', 'isis', 'beloved', 'kindredruler', 'high', 'low', 'kemet', 'voodoomamajuju', 'voodoo', 'mamma', 'juju', 'brantford', 'ontario', 'brantfords', 'gold', 'mine', 'like', 'go', 'diggin', 'opinions', 'like', 'assholes', 'everyone', '’', 'got', 'em', 'stink', 'bustareimer', 'megan', 'los', 'angeles', 'ca', 'lord', 'grammar', 'cool', 'aunt', 'writer', 'filmmaker', 'music', 'lover', '’', 'afraid', 'ghosts']\n",
      "\n",
      "==================================================\n",
      "\n"
     ]
    }
   ],
   "source": [
    "for filename, cleaned_description in cleaned_twitter_data.items():\n",
    "    print(f\"Filename: {filename}\")\n",
    "    print(f\"Cleaned Description (first 1000 characters):\\n{cleaned_description[:1000]}\")\n",
    "    print(\"\\n\" + \"=\"*50 + \"\\n\")"
   ]
  },
  {
   "cell_type": "code",
   "execution_count": 12,
   "id": "e0f22e10",
   "metadata": {},
   "outputs": [],
   "source": [
    "# create your clean lyrics data here\n",
    "def clean_lyrics_data(lyrics_data):\n",
    "    cleaned_lyrics = {}\n",
    "    for artist, songs in lyrics_data.items():\n",
    "        cleaned_lyrics[artist] = []\n",
    "        for song_lyrics in songs:\n",
    "            # cleaned_song = re.sub(r'\\s+', ' ', song_lyrics) # addition to the last question\n",
    "            # cleaned_song = clean_text(cleaned_song)          \n",
    "            cleaned_song = clean_text(song_lyrics)          \n",
    "            cleaned_song = [word for word in cleaned_song if word != 'azlyricscom']\n",
    "            cleaned_lyrics[artist].append(cleaned_song)\n",
    "            # print(cleaned_lyrics)\n",
    "    return cleaned_lyrics\n",
    "cleaned_lyrics_data = clean_lyrics_data(lyrics_data)\n"
   ]
  },
  {
   "cell_type": "markdown",
   "id": "f2dd0179",
   "metadata": {},
   "source": [
    "## Basic Descriptive Statistics\n",
    "\n",
    "Call your `descriptive_stats` function on both your lyrics data and your twitter data and for both artists (four total calls). "
   ]
  },
  {
   "cell_type": "code",
   "execution_count": 13,
   "id": "d41f2fb7-70a2-426b-9b86-b4f07d6cf919",
   "metadata": {},
   "outputs": [
    {
     "name": "stdout",
     "output_type": "stream",
     "text": [
      "Artist lyric contents: cher\n",
      "There are 5493 tokens in the data.\n",
      "There are 1392 unique tokens in the data.\n",
      "There are 26412 characters in the data.\n",
      "The lexical diversity is 0.253 in the data.\n",
      "The 5 most common tokens are:\n",
      "come: 101\n",
      "dont: 94\n",
      "baby: 87\n",
      "see: 80\n",
      "girl: 61\n",
      "--------------------------------------------------\n",
      "Artist lyric contents: robyn\n",
      "There are 3153 tokens in the data.\n",
      "There are 649 unique tokens in the data.\n",
      "There are 15447 characters in the data.\n",
      "The lexical diversity is 0.206 in the data.\n",
      "The 5 most common tokens are:\n",
      "love: 103\n",
      "robyn: 97\n",
      "show: 78\n",
      "know: 74\n",
      "dont: 62\n",
      "--------------------------------------------------\n"
     ]
    }
   ],
   "source": [
    "import itertools\n",
    "artist_tokens = {}\n",
    "# Lyric Stats\n",
    "for artist, songs in cleaned_lyrics_data.items():\n",
    "    # Flatten all song tokens for the current artist\n",
    "    # Since Lyrics is in Nested Dict.\n",
    "    all_tokens = list(itertools.chain.from_iterable(songs))\n",
    "    artist_tokens[artist] = all_tokens\n",
    "\n",
    "for artist, tokens in artist_tokens.items():\n",
    "    print(f\"Artist lyric contents: {artist}\")\n",
    "    stats = descriptive_stats(tokens, num_tokens=5, verbose=True)\n",
    "    print(\"-\" * 50)"
   ]
  },
  {
   "cell_type": "code",
   "execution_count": 14,
   "id": "4c32013a-b41c-482c-be3c-d00229904a7b",
   "metadata": {},
   "outputs": [
    {
     "name": "stdout",
     "output_type": "stream",
     "text": [
      "Filename: cher_followers_data.txt\n",
      "There are 30117921 tokens in the data.\n",
      "There are 5739231 unique tokens in the data.\n",
      "There are 193751046 characters in the data.\n",
      "The lexical diversity is 0.191 in the data.\n",
      "The 5 most common tokens are:\n",
      "love: 222404\n",
      "im: 142232\n",
      "usa: 140927\n",
      "life: 126924\n",
      "new: 106580\n",
      "--------------------------------------------------\n",
      "Filename: robynkonichiwa_followers_data.txt\n",
      "There are 2789269 tokens in the data.\n",
      "There are 720577 unique tokens in the data.\n",
      "There are 18362481 characters in the data.\n",
      "The lexical diversity is 0.258 in the data.\n",
      "The 5 most common tokens are:\n",
      "music: 16094\n",
      "sweden: 12744\n",
      "love: 12237\n",
      "new: 10255\n",
      "stockholm: 9707\n",
      "--------------------------------------------------\n"
     ]
    }
   ],
   "source": [
    "# twitter Stats\n",
    "for filename, tokens in cleaned_twitter_data.items():\n",
    "    print(f\"Filename: {filename}\")\n",
    "    stats = descriptive_stats(tokens, num_tokens=5, verbose=True)\n",
    "    print(\"-\" * 50)"
   ]
  },
  {
   "cell_type": "markdown",
   "id": "46294409",
   "metadata": {},
   "source": [
    "Q: How do you think the \"top 5 words\" would be different if we left stopwords in the data? \n",
    "\n",
    "A: If we left stopwords which include conjunctions, prepositions, articles, pronouns, and auxiliary verbs, the result will generate less meaningful words, because there would be possibilities that these stopwords would be most dominant. It could skew the results since it emphasizes frequent words that don't add much insight into the text’s content. On the otherhands, removing stopwords allows the analysis to get more significant and content-rich words. This often leads to a list of top words that better reflect the core themes and topics of the text. By excluding stopwords, it would enhance the relevance and accuracy of text analysis. The final result will highlight words that contribute more meaningfully to understanding the text. \n",
    "\n",
    "---\n",
    "\n",
    "Q: What were your prior beliefs about the lexical diversity between the artists? Does the difference (or lack thereof) in lexical diversity between the artists conform to your prior beliefs? \n",
    "\n",
    "A: Lexical diversity refers to the variety of unique words used in a text or speech. It reflects the richness of the vocabulary in the lyrics. I was under impression that most of artists use similar range of vocabulary in their lyrics as long as their songs express similar themes regardless the genre. After analyzing the artists' lyrics, I found that their lexical diversity was similar; which would support the belief that artists generally have a comparable vocabulary range. However, an interesting finding would suggest that factors such as genre or lyrical approach would play a more substantial role. These differences would challenge my prior assumption and highlight how artistic style impacts language or words use. For example, an artist who sings a love theme for hiphop or rap genre, the lyrics might contain more explicit languages compare to country or pop genre. If we include specific stopword based genre themes, the results confirm that lexical diversity is consistent across artists based on the themes. Thus, the analysis provides valuable insights into the relationship between lyrical content and lexical diversity.\n",
    "\n"
   ]
  },
  {
   "cell_type": "markdown",
   "id": "4d4e1ac1",
   "metadata": {},
   "source": [
    "\n",
    "## Specialty Statistics\n",
    "\n",
    "The descriptive statistics we have calculated are quite generic. You will now calculate a handful of statistics tailored to these data.\n",
    "\n",
    "1. Ten most common emojis by artist in the twitter descriptions.\n",
    "1. Ten most common hashtags by artist in the twitter descriptions.\n",
    "1. Five most common words in song titles by artist. \n",
    "1. For each artist, a histogram of song lengths (in terms of number of tokens) \n",
    "\n",
    "We can use the `emoji` library to help us identify emojis and you have been given a function to help you.\n"
   ]
  },
  {
   "cell_type": "code",
   "execution_count": 15,
   "id": "753a5a3e",
   "metadata": {},
   "outputs": [],
   "source": [
    "assert(emoji.is_emoji(\"❤️\"))\n",
    "assert(not emoji.is_emoji(\":-)\"))"
   ]
  },
  {
   "cell_type": "markdown",
   "id": "986fc4c0",
   "metadata": {},
   "source": [
    "### Emojis 😁\n",
    "\n",
    "What are the ten most common emojis by artist in the twitter descriptions? \n"
   ]
  },
  {
   "cell_type": "code",
   "execution_count": 16,
   "id": "794bb8da-8d1e-4405-a3ec-2e4eb0f92f49",
   "metadata": {},
   "outputs": [
    {
     "name": "stdout",
     "output_type": "stream",
     "text": [
      "Artist: cher\n",
      "Most common emojis in twitter:\n",
      "❤: 94506\n",
      "🌈: 66291\n",
      "♥: 48059\n",
      "🏳: 47174\n",
      "✨: 45846\n",
      "🌊: 31234\n",
      "💙: 31050\n",
      "🏻: 25195\n",
      "✌: 21963\n",
      "💜: 21571\n",
      "\n",
      "Artist: robynkonichiwa\n",
      "Most common emojis in twitter:\n",
      "🌈: 6086\n",
      "❤: 5635\n",
      "🏳: 4641\n",
      "♥: 4249\n",
      "✨: 3217\n",
      "🏻: 1751\n",
      "✌: 1495\n",
      "♀: 1347\n",
      "🏼: 1340\n",
      "💙: 1200\n",
      "\n"
     ]
    }
   ],
   "source": [
    "# Your code here\n",
    "def extract_emojis(text):\n",
    "    return [char for char in text if char in emoji.EMOJI_DATA]\n",
    "    \n",
    "def group_emojis_by_artist(cleaned_twitter_data):\n",
    "    grouped_emojis = {}\n",
    "    for filename, tokens in cleaned_twitter_data.items():\n",
    "        artist = filename.split('_')[0]\n",
    "        text = ' '.join(tokens)\n",
    "        emojis = extract_emojis(text)\n",
    "        if artist not in grouped_emojis:\n",
    "            grouped_emojis[artist] = []\n",
    "        grouped_emojis[artist].extend(emojis)\n",
    "    return grouped_emojis\n",
    "\n",
    "grouped_emojis = group_emojis_by_artist(cleaned_twitter_data)\n",
    "most_common_emojis = {}\n",
    "\n",
    "for artist, emojis in grouped_emojis.items():\n",
    "    emojis_counter = Counter(emojis)\n",
    "    stats = descriptive_stats(emojis_counter, num_tokens=10, verbose=False)\n",
    "    most_common_emojis[artist] = stats[4]\n",
    "\n",
    "# Print results\n",
    "for artist, common_tokens in most_common_emojis.items():\n",
    "    print(f\"Artist: {artist}\")\n",
    "    print(\"Most common emojis in twitter:\")\n",
    "    for token, count in common_tokens:\n",
    "        print(f\"{token}: {count}\")\n",
    "    print()"
   ]
  },
  {
   "cell_type": "markdown",
   "id": "bab9b770",
   "metadata": {},
   "source": [
    "### Hashtags\n",
    "\n",
    "What are the ten most common hashtags by artist in the twitter descriptions? \n"
   ]
  },
  {
   "cell_type": "code",
   "execution_count": 17,
   "id": "800a7110-25e3-4fa4-8570-7bcedce18357",
   "metadata": {},
   "outputs": [],
   "source": [
    "# keep #\n",
    "def clean_twitter_data(twitter_data):\n",
    "    cleaned_twitter_data = {}\n",
    "    for filename, description in twitter_data.items():\n",
    "        cleaned_tokens = clean_text(description)\n",
    "        cleaned_twitter_data[filename] = cleaned_tokens\n",
    "    return cleaned_twitter_data\n",
    "cleaned_twitter_data = clean_twitter_data(twitter_data)"
   ]
  },
  {
   "cell_type": "code",
   "execution_count": 18,
   "id": "6ea6a30f-c1f0-43b8-a5b3-75d319f046da",
   "metadata": {},
   "outputs": [],
   "source": [
    "def extract_hashtags(text): \n",
    "    return re.findall(r'#\\w+', text)\n",
    "\n",
    "# Thanks to ChatGPT\n",
    "def combine_hashtags_back(twitter_data, cleaned_twitter_data): \n",
    "    combined_data = {}\n",
    "    for filename, description in twitter_data.items():\n",
    "        cleaned_tokens = cleaned_twitter_data[filename]\n",
    "        hashtags = extract_hashtags(description)\n",
    "        combined_tokens = cleaned_tokens + hashtags\n",
    "        combined_data[filename] = combined_tokens\n",
    "    return combined_data\n",
    "\n",
    "recombined_cleaned_twitter_data = combine_hashtags_back(twitter_data, cleaned_twitter_data)"
   ]
  },
  {
   "cell_type": "code",
   "execution_count": 19,
   "id": "ca8da8ec-109b-416b-acb2-98655055841f",
   "metadata": {},
   "outputs": [
    {
     "name": "stdout",
     "output_type": "stream",
     "text": [
      "Artist: cher\n",
      "Most common hashtag in twitter:\n",
      "#BLM: 10100\n",
      "#Resist: 6161\n",
      "#BlackLivesMatter: 4888\n",
      "#resist: 3860\n",
      "#FBR: 3330\n",
      "#1: 3111\n",
      "#TheResistance: 3044\n",
      "#blacklivesmatter: 2738\n",
      "#Resistance: 1953\n",
      "#RESIST: 1878\n",
      "\n",
      "Artist: robynkonichiwa\n",
      "Most common hashtag in twitter:\n",
      "#BlackLivesMatter: 356\n",
      "#BLM: 345\n",
      "#1: 228\n",
      "#blacklivesmatter: 222\n",
      "#music: 175\n",
      "#Music: 114\n",
      "#EDM: 87\n",
      "#LGBTQ: 76\n",
      "#blm: 60\n",
      "#TeamFollowBack: 59\n",
      "\n"
     ]
    }
   ],
   "source": [
    "def group_hashtags_by_artist(recombined_cleaned_twitter_data):\n",
    "    grouped_hashtags = {}\n",
    "    for filename, tokens in recombined_cleaned_twitter_data.items():\n",
    "        artist = filename.split('_')[0]\n",
    "        text = ' '.join(tokens)\n",
    "        hashtags = extract_hashtags(text)\n",
    "        if artist not in grouped_hashtags:\n",
    "            grouped_hashtags[artist] = []\n",
    "        grouped_hashtags[artist].extend(hashtags)\n",
    "    return grouped_hashtags\n",
    "\n",
    "grouped_hashtags = group_hashtags_by_artist(recombined_cleaned_twitter_data)\n",
    "most_common_hashtags = {}\n",
    "\n",
    "for artist, hashtags in grouped_hashtags.items():\n",
    "    hashtag_counter = Counter(hashtags)\n",
    "    stats = descriptive_stats(hashtag_counter, num_tokens=10, verbose=False)\n",
    "    most_common_hashtags[artist] = stats[4]\n",
    "\n",
    "# Print results\n",
    "for artist, common_tokens in most_common_hashtags.items():\n",
    "    print(f\"Artist: {artist}\")\n",
    "    print(\"Most common hashtag in twitter:\")\n",
    "    for token, count in common_tokens:\n",
    "        print(f\"{token}: {count}\")\n",
    "    print()"
   ]
  },
  {
   "cell_type": "markdown",
   "id": "d10f21d5",
   "metadata": {},
   "source": [
    "### Song Titles\n",
    "\n",
    "What are the five most common words in song titles by artist? The song titles should be on the first line of the lyrics pages, so if you have kept the raw file contents around, you will not need to re-read the data.\n"
   ]
  },
  {
   "cell_type": "code",
   "execution_count": 20,
   "id": "d82b4257-cb1d-4193-9fd8-ec4cc72f8d9e",
   "metadata": {},
   "outputs": [],
   "source": [
    "def extract_song_title(text):\n",
    "    match = re.search(r'- (.+?) \\|', text)\n",
    "    if match:\n",
    "        return match.group(1).strip()\n",
    "    return text.strip()\n",
    "    \n",
    "def process_lyrics_data(lyrics_data):\n",
    "    song_titles = {}\n",
    "    for artist, lyrics_list in lyrics_data.items():\n",
    "        song_titles[artist] = []\n",
    "        for lyrics in lyrics_list:\n",
    "            lines = lyrics.split('\\n')\n",
    "            if lines:\n",
    "                song_title = lines[0].strip()\n",
    "                song_title = song_title.replace(' Lyrics', '')\n",
    "                extracted_title = extract_song_title(song_title)\n",
    "                cleaned_title = clean_text(extracted_title)\n",
    "                song_titles[artist].extend(cleaned_title)\n",
    "    return song_titles\n"
   ]
  },
  {
   "cell_type": "code",
   "execution_count": 21,
   "id": "bb69b36b",
   "metadata": {},
   "outputs": [
    {
     "name": "stdout",
     "output_type": "stream",
     "text": [
      "Artist: cher\n",
      "Most common tokens in song titles:\n",
      "come: 4\n",
      "girl: 2\n",
      "bang: 2\n",
      "baby: 2\n",
      "sleep: 2\n",
      "\n",
      "Artist: robyn\n",
      "Most common tokens in song titles:\n",
      "want: 2\n",
      "show: 2\n",
      "go: 2\n",
      "heart: 2\n",
      "love: 2\n",
      "\n"
     ]
    }
   ],
   "source": [
    "# Your code here\n",
    "song_titles = process_lyrics_data(lyrics_data)\n",
    "most_common_tokens_by_artist = {}\n",
    "\n",
    "for artist, tokens in song_titles.items():\n",
    "    counter = Counter(tokens)\n",
    "    stats = descriptive_stats(counter, num_tokens=5, verbose=False)\n",
    "    most_common_tokens_by_artist[artist] = stats[4]\n",
    "\n",
    "# Print results\n",
    "for artist, common_tokens in most_common_tokens_by_artist.items():\n",
    "    print(f\"Artist: {artist}\")\n",
    "    print(\"Most common tokens in song titles:\")\n",
    "    for token, count in common_tokens:\n",
    "        print(f\"{token}: {count}\")\n",
    "    print()"
   ]
  },
  {
   "cell_type": "markdown",
   "id": "5dd4fd71",
   "metadata": {},
   "source": [
    "### Song Lengths\n",
    "\n",
    "For each artist, a histogram of song lengths (in terms of number of tokens). If you put the song lengths in a data frame with an artist column, matplotlib will make the plotting quite easy. An example is given to help you out. \n"
   ]
  },
  {
   "cell_type": "code",
   "execution_count": 22,
   "id": "805a1e52",
   "metadata": {},
   "outputs": [
    {
     "data": {
      "text/plain": [
       "artist\n",
       "Artist 1    Axes(0.125,0.11;0.775x0.77)\n",
       "Artist 2    Axes(0.125,0.11;0.775x0.77)\n",
       "Name: length, dtype: object"
      ]
     },
     "execution_count": 22,
     "metadata": {},
     "output_type": "execute_result"
    },
    {
     "data": {
      "image/png": "[encoded data removed]",
      "text/plain": [
       "<Figure size 640x480 with 1 Axes>"
      ]
     },
     "metadata": {},
     "output_type": "display_data"
    }
   ],
   "source": [
    "num_replicates = 1000\n",
    "\n",
    "df = pd.DataFrame({\n",
    "    \"artist\" : ['Artist 1'] * num_replicates + ['Artist 2']*num_replicates,\n",
    "    \"length\" : np.concatenate((np.random.poisson(125,num_replicates),np.random.poisson(150,num_replicates)))\n",
    "})\n",
    "\n",
    "df.groupby('artist')['length'].plot(kind=\"hist\",density=True,alpha=0.5,legend=True)"
   ]
  },
  {
   "cell_type": "code",
   "execution_count": 23,
   "id": "91cb86bc-a04b-482b-abba-59edd4757aa5",
   "metadata": {},
   "outputs": [
    {
     "data": {
      "text/plain": [
       "artist\n",
       "cher     Axes(0.125,0.11;0.775x0.77)\n",
       "robyn    Axes(0.125,0.11;0.775x0.77)\n",
       "Name: length, dtype: object"
      ]
     },
     "execution_count": 23,
     "metadata": {},
     "output_type": "execute_result"
    },
    {
     "data": {
      "image/png": "[encoded data removed]",
      "text/plain": [
       "<Figure size 640x480 with 1 Axes>"
      ]
     },
     "metadata": {},
     "output_type": "display_data"
    }
   ],
   "source": [
    "data = []\n",
    "for artist, songs in cleaned_lyrics_data.items():\n",
    "    for song_tokens in songs:\n",
    "        data.append({\"artist\": artist, \"length\": len(song_tokens)})\n",
    "\n",
    "df = pd.DataFrame(data)\n",
    "df.groupby('artist')['length'].plot(kind=\"hist\", density=True, alpha=0.5, legend=True)\n"
   ]
  },
  {
   "cell_type": "markdown",
   "id": "8fde9ebb",
   "metadata": {},
   "source": [
    "Since the lyrics may be stored with carriage returns or tabs, it may be useful to have a function that can collapse whitespace, using regular expressions, and be used for splitting. \n",
    "\n",
    "Q: What does the regular expression `'\\s+'` match on? \n",
    "\n",
    "A: The regular expression '\\s+' matches one or more consecutive whitespace characters. \n"
   ]
  },
  {
   "cell_type": "code",
   "execution_count": 24,
   "id": "f0e34516",
   "metadata": {},
   "outputs": [],
   "source": [
    "collapse_whitespace = re.compile(r'\\s+')\n",
    "\n",
    "def tokenize_lyrics(lyric) : \n",
    "    \"\"\"strip and split on whitespace\"\"\"\n",
    "    return([item.lower() for item in collapse_whitespace.split(lyric)])"
   ]
  },
  {
   "cell_type": "code",
   "execution_count": 27,
   "id": "2294c440",
   "metadata": {},
   "outputs": [
    {
     "data": {
      "image/png": "[encoded data removed]",
      "text/plain": [
       "<Figure size 1000x600 with 1 Axes>"
      ]
     },
     "metadata": {},
     "output_type": "display_data"
    }
   ],
   "source": [
    "# Your lyric length comparison chart here. \n",
    "lyric_lengths = {}\n",
    "for artist, songs in lyrics_data.items():\n",
    "    lyric_lengths[artist] = [len(tokenize_lyrics(song)) for song in songs]\n",
    "\n",
    "# Flatten the dictionary for easier plotting\n",
    "songs = []\n",
    "lengths = []\n",
    "for artist, lengths_list in lyric_lengths.items():\n",
    "    for i, length in enumerate(lengths_list):\n",
    "        songs.append(f\"{artist}_song{i+1}\")\n",
    "        lengths.append(length)\n",
    "\n",
    "# Plotting the lyric length comparison chart\n",
    "plt.figure(figsize=(10, 6))\n",
    "plt.bar(songs, lengths, color='skyblue')\n",
    "plt.title('Lyric Length Comparison Chart')\n",
    "plt.xlabel('Songs')\n",
    "plt.ylabel('Number of Words')\n",
    "plt.xticks(rotation=45, ha=\"right\")\n",
    "plt.tight_layout()\n",
    "plt.show()"
   ]
  },
  {
   "cell_type": "markdown",
   "id": "1cf20508-8415-49a3-b54a-bcc0963024ff",
   "metadata": {},
   "source": [
    "**Reference:**\n",
    "- Oracle and/or its affiliates. (n.d.). Programming With Assertions. Programming with assertions. https://docs.oracle.com/javase/8/docs/technotes/guides/language/assert.html#:~:text=An%20assertion%20is%20a%20statement,than%20the%20speed%20of%20light.\n",
    "- Wikimedia Foundation. (2024, August 14). Lexical diversity. Wikipedia. https://en.wikipedia.org/wiki/Lexical_diversity\n",
    "- OpenAI. (2024). ChatGPT (September 24 version) [Large language model]. https://chat.openai.com/chat\n",
    "- Dib, F. (n.d.). Build, test, and debug regex. regex101. https://regex101.com/ "
   ]
  },
  {
   "cell_type": "code",
   "execution_count": null,
   "id": "2b470b35-7012-4198-88d8-55929633c8d3",
   "metadata": {},
   "outputs": [],
   "source": []
  }
 ],
 "metadata": {
  "kernelspec": {
   "display_name": "Python 3 (ipykernel)",
   "language": "python",
   "name": "python3"
  },
  "language_info": {
   "codemirror_mode": {
    "name": "ipython",
    "version": 3
   },
   "file_extension": ".py",
   "mimetype": "text/x-python",
   "name": "python",
   "nbconvert_exporter": "python",
   "pygments_lexer": "ipython3",
   "version": "3.11.7"
  }
 },
 "nbformat": 4,
 "nbformat_minor": 5
}
